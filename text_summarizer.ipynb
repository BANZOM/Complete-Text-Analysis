{
  "cells": [
    {
      "cell_type": "markdown",
      "metadata": {
        "id": "V-NbPgKM_ken"
      },
      "source": [
        "Entering the text"
      ]
    },
    {
      "cell_type": "code",
      "execution_count": 16,
      "metadata": {
        "colab": {
          "base_uri": "https://localhost:8080/"
        },
        "id": "yKKjkhr2_wxr",
        "outputId": "f26d7b78-d40b-4cfe-b15e-a47560848664"
      },
      "outputs": [
        {
          "name": "stdout",
          "output_type": "stream",
          "text": [
            "The human brain is the central organ of the human nervous system, and with the spinal cord makes up the central nervous system. The brain consists of the cerebrum, the brainstem and the cerebellum. It controls most of the activities of the body, processing, integrating, and coordinating the information it receives from the sense organs, and making decisions as to the instructions sent to the rest of the body. The brain is contained in, and protected by, the skull bones of the head.  The cerebrum, the largest part of the human brain, consists of two cerebral hemispheres. Each hemisphere has an inner core composed of white matter, and an outer surface – the cerebral cortex – composed of grey matter. The cortex has an outer layer, the neocortex, and an inner allocortex. The neocortex is made up of six neuronal layers, while the allocortex has three or four. Each hemisphere is conventionally divided into four lobes – the frontal, temporal, parietal, and occipital lobes. The frontal lobe is associated with executive functions including self-control, planning, reasoning, and abstract thought, while the occipital lobe is dedicated to vision. Within each lobe, cortical areas are associated with specific functions, such as the sensory, motor and association regions. Although the left and right hemispheres are broadly similar in shape and function, some functions are associated with one side, such as language in the left and visual-spatial ability in the right. The hemispheres are connected by commissural nerve tracts, the largest being the corpus callosum.  The cerebrum is connected by the brainstem to the spinal cord. The brainstem consists of the midbrain, the pons, and the medulla oblongata. The cerebellum is connected to the brainstem by three pairs of nerve tracts called cerebellar peduncles. Within the cerebrum is the ventricular system, consisting of four interconnected ventricles in which cerebrospinal fluid is produced and circulated. Underneath the cerebral cortex are several important structures, including the thalamus, the epithalamus, the pineal gland, the hypothalamus, the pituitary gland, and the subthalamus; the limbic structures, including the amygdala and the hippocampus; the claustrum, the various nuclei of the basal ganglia; the basal forebrain structures, and the three circumventricular organs. The cells of the brain include neurons and supportive glial cells. There are more than 86 billion neurons in the brain, and a more or less equal number of other cells. Brain activity is made possible by the interconnections of neurons and their release of neurotransmitters in response to nerve impulses. Neurons connect to form neural pathways, neural circuits, and elaborate network systems. The whole circuitry is driven by the process of neurotransmission.\n"
          ]
        }
      ],
      "source": [
        "text=input()"
      ]
    },
    {
      "cell_type": "markdown",
      "metadata": {
        "id": "IZdEPctx8HQl"
      },
      "source": [
        "Text Cleaning\n"
      ]
    },
    {
      "cell_type": "code",
      "execution_count": null,
      "metadata": {
        "id": "4ei2tzRftFFc"
      },
      "outputs": [],
      "source": [
        "import numpy as np\n",
        " "
      ]
    },
    {
      "cell_type": "code",
      "execution_count": null,
      "metadata": {
        "colab": {
          "base_uri": "https://localhost:8080/"
        },
        "id": "RygTo0AW52wI",
        "outputId": "aae6f524-c122-4fb3-9c53-d00f056abf49"
      },
      "outputs": [
        {
          "name": "stdout",
          "output_type": "stream",
          "text": [
            "Looking in indexes: https://pypi.org/simple, https://us-python.pkg.dev/colab-wheels/public/simple/\n",
            "Requirement already satisfied: spacy in /usr/local/lib/python3.7/dist-packages (3.4.1)\n",
            "Requirement already satisfied: langcodes<4.0.0,>=3.2.0 in /usr/local/lib/python3.7/dist-packages (from spacy) (3.3.0)\n",
            "Requirement already satisfied: cymem<2.1.0,>=2.0.2 in /usr/local/lib/python3.7/dist-packages (from spacy) (2.0.6)\n",
            "Requirement already satisfied: tqdm<5.0.0,>=4.38.0 in /usr/local/lib/python3.7/dist-packages (from spacy) (4.64.1)\n",
            "Requirement already satisfied: catalogue<2.1.0,>=2.0.6 in /usr/local/lib/python3.7/dist-packages (from spacy) (2.0.8)\n",
            "Requirement already satisfied: wasabi<1.1.0,>=0.9.1 in /usr/local/lib/python3.7/dist-packages (from spacy) (0.10.1)\n",
            "Requirement already satisfied: srsly<3.0.0,>=2.4.3 in /usr/local/lib/python3.7/dist-packages (from spacy) (2.4.4)\n",
            "Requirement already satisfied: pathy>=0.3.5 in /usr/local/lib/python3.7/dist-packages (from spacy) (0.6.2)\n",
            "Requirement already satisfied: packaging>=20.0 in /usr/local/lib/python3.7/dist-packages (from spacy) (21.3)\n",
            "Requirement already satisfied: spacy-loggers<2.0.0,>=1.0.0 in /usr/local/lib/python3.7/dist-packages (from spacy) (1.0.3)\n",
            "Requirement already satisfied: numpy>=1.15.0 in /usr/local/lib/python3.7/dist-packages (from spacy) (1.21.6)\n",
            "Requirement already satisfied: jinja2 in /usr/local/lib/python3.7/dist-packages (from spacy) (2.11.3)\n",
            "Requirement already satisfied: typing-extensions<4.2.0,>=3.7.4 in /usr/local/lib/python3.7/dist-packages (from spacy) (4.1.1)\n",
            "Requirement already satisfied: murmurhash<1.1.0,>=0.28.0 in /usr/local/lib/python3.7/dist-packages (from spacy) (1.0.8)\n",
            "Requirement already satisfied: spacy-legacy<3.1.0,>=3.0.9 in /usr/local/lib/python3.7/dist-packages (from spacy) (3.0.10)\n",
            "Requirement already satisfied: preshed<3.1.0,>=3.0.2 in /usr/local/lib/python3.7/dist-packages (from spacy) (3.0.7)\n",
            "Requirement already satisfied: thinc<8.2.0,>=8.1.0 in /usr/local/lib/python3.7/dist-packages (from spacy) (8.1.0)\n",
            "Requirement already satisfied: setuptools in /usr/local/lib/python3.7/dist-packages (from spacy) (57.4.0)\n",
            "Requirement already satisfied: typer<0.5.0,>=0.3.0 in /usr/local/lib/python3.7/dist-packages (from spacy) (0.4.2)\n",
            "Requirement already satisfied: requests<3.0.0,>=2.13.0 in /usr/local/lib/python3.7/dist-packages (from spacy) (2.23.0)\n",
            "Requirement already satisfied: pydantic!=1.8,!=1.8.1,<1.10.0,>=1.7.4 in /usr/local/lib/python3.7/dist-packages (from spacy) (1.9.2)\n",
            "Requirement already satisfied: zipp>=0.5 in /usr/local/lib/python3.7/dist-packages (from catalogue<2.1.0,>=2.0.6->spacy) (3.8.1)\n",
            "Requirement already satisfied: pyparsing!=3.0.5,>=2.0.2 in /usr/local/lib/python3.7/dist-packages (from packaging>=20.0->spacy) (3.0.9)\n",
            "Requirement already satisfied: smart-open<6.0.0,>=5.2.1 in /usr/local/lib/python3.7/dist-packages (from pathy>=0.3.5->spacy) (5.2.1)\n",
            "Requirement already satisfied: idna<3,>=2.5 in /usr/local/lib/python3.7/dist-packages (from requests<3.0.0,>=2.13.0->spacy) (2.10)\n",
            "Requirement already satisfied: urllib3!=1.25.0,!=1.25.1,<1.26,>=1.21.1 in /usr/local/lib/python3.7/dist-packages (from requests<3.0.0,>=2.13.0->spacy) (1.24.3)\n",
            "Requirement already satisfied: chardet<4,>=3.0.2 in /usr/local/lib/python3.7/dist-packages (from requests<3.0.0,>=2.13.0->spacy) (3.0.4)\n",
            "Requirement already satisfied: certifi>=2017.4.17 in /usr/local/lib/python3.7/dist-packages (from requests<3.0.0,>=2.13.0->spacy) (2022.6.15)\n",
            "Requirement already satisfied: blis<0.8.0,>=0.7.8 in /usr/local/lib/python3.7/dist-packages (from thinc<8.2.0,>=8.1.0->spacy) (0.7.8)\n",
            "Requirement already satisfied: click<9.0.0,>=7.1.1 in /usr/local/lib/python3.7/dist-packages (from typer<0.5.0,>=0.3.0->spacy) (7.1.2)\n",
            "Requirement already satisfied: MarkupSafe>=0.23 in /usr/local/lib/python3.7/dist-packages (from jinja2->spacy) (2.0.1)\n",
            "2022-09-29 16:09:19.282877: E tensorflow/stream_executor/cuda/cuda_driver.cc:271] failed call to cuInit: CUDA_ERROR_NO_DEVICE: no CUDA-capable device is detected\n",
            "Looking in indexes: https://pypi.org/simple, https://us-python.pkg.dev/colab-wheels/public/simple/\n",
            "Collecting en-core-web-sm==3.4.0\n",
            "  Downloading https://github.com/explosion/spacy-models/releases/download/en_core_web_sm-3.4.0/en_core_web_sm-3.4.0-py3-none-any.whl (12.8 MB)\n",
            "\u001b[K     |████████████████████████████████| 12.8 MB 6.9 MB/s \n",
            "\u001b[?25hRequirement already satisfied: spacy<3.5.0,>=3.4.0 in /usr/local/lib/python3.7/dist-packages (from en-core-web-sm==3.4.0) (3.4.1)\n",
            "Requirement already satisfied: setuptools in /usr/local/lib/python3.7/dist-packages (from spacy<3.5.0,>=3.4.0->en-core-web-sm==3.4.0) (57.4.0)\n",
            "Requirement already satisfied: langcodes<4.0.0,>=3.2.0 in /usr/local/lib/python3.7/dist-packages (from spacy<3.5.0,>=3.4.0->en-core-web-sm==3.4.0) (3.3.0)\n",
            "Requirement already satisfied: thinc<8.2.0,>=8.1.0 in /usr/local/lib/python3.7/dist-packages (from spacy<3.5.0,>=3.4.0->en-core-web-sm==3.4.0) (8.1.0)\n",
            "Requirement already satisfied: murmurhash<1.1.0,>=0.28.0 in /usr/local/lib/python3.7/dist-packages (from spacy<3.5.0,>=3.4.0->en-core-web-sm==3.4.0) (1.0.8)\n",
            "Requirement already satisfied: typing-extensions<4.2.0,>=3.7.4 in /usr/local/lib/python3.7/dist-packages (from spacy<3.5.0,>=3.4.0->en-core-web-sm==3.4.0) (4.1.1)\n",
            "Requirement already satisfied: pydantic!=1.8,!=1.8.1,<1.10.0,>=1.7.4 in /usr/local/lib/python3.7/dist-packages (from spacy<3.5.0,>=3.4.0->en-core-web-sm==3.4.0) (1.9.2)\n",
            "Requirement already satisfied: spacy-loggers<2.0.0,>=1.0.0 in /usr/local/lib/python3.7/dist-packages (from spacy<3.5.0,>=3.4.0->en-core-web-sm==3.4.0) (1.0.3)\n",
            "Requirement already satisfied: tqdm<5.0.0,>=4.38.0 in /usr/local/lib/python3.7/dist-packages (from spacy<3.5.0,>=3.4.0->en-core-web-sm==3.4.0) (4.64.1)\n",
            "Requirement already satisfied: catalogue<2.1.0,>=2.0.6 in /usr/local/lib/python3.7/dist-packages (from spacy<3.5.0,>=3.4.0->en-core-web-sm==3.4.0) (2.0.8)\n",
            "Requirement already satisfied: numpy>=1.15.0 in /usr/local/lib/python3.7/dist-packages (from spacy<3.5.0,>=3.4.0->en-core-web-sm==3.4.0) (1.21.6)\n",
            "Requirement already satisfied: jinja2 in /usr/local/lib/python3.7/dist-packages (from spacy<3.5.0,>=3.4.0->en-core-web-sm==3.4.0) (2.11.3)\n",
            "Requirement already satisfied: wasabi<1.1.0,>=0.9.1 in /usr/local/lib/python3.7/dist-packages (from spacy<3.5.0,>=3.4.0->en-core-web-sm==3.4.0) (0.10.1)\n",
            "Requirement already satisfied: preshed<3.1.0,>=3.0.2 in /usr/local/lib/python3.7/dist-packages (from spacy<3.5.0,>=3.4.0->en-core-web-sm==3.4.0) (3.0.7)\n",
            "Requirement already satisfied: typer<0.5.0,>=0.3.0 in /usr/local/lib/python3.7/dist-packages (from spacy<3.5.0,>=3.4.0->en-core-web-sm==3.4.0) (0.4.2)\n",
            "Requirement already satisfied: pathy>=0.3.5 in /usr/local/lib/python3.7/dist-packages (from spacy<3.5.0,>=3.4.0->en-core-web-sm==3.4.0) (0.6.2)\n",
            "Requirement already satisfied: srsly<3.0.0,>=2.4.3 in /usr/local/lib/python3.7/dist-packages (from spacy<3.5.0,>=3.4.0->en-core-web-sm==3.4.0) (2.4.4)\n",
            "Requirement already satisfied: packaging>=20.0 in /usr/local/lib/python3.7/dist-packages (from spacy<3.5.0,>=3.4.0->en-core-web-sm==3.4.0) (21.3)\n",
            "Requirement already satisfied: cymem<2.1.0,>=2.0.2 in /usr/local/lib/python3.7/dist-packages (from spacy<3.5.0,>=3.4.0->en-core-web-sm==3.4.0) (2.0.6)\n",
            "Requirement already satisfied: spacy-legacy<3.1.0,>=3.0.9 in /usr/local/lib/python3.7/dist-packages (from spacy<3.5.0,>=3.4.0->en-core-web-sm==3.4.0) (3.0.10)\n",
            "Requirement already satisfied: requests<3.0.0,>=2.13.0 in /usr/local/lib/python3.7/dist-packages (from spacy<3.5.0,>=3.4.0->en-core-web-sm==3.4.0) (2.23.0)\n",
            "Requirement already satisfied: zipp>=0.5 in /usr/local/lib/python3.7/dist-packages (from catalogue<2.1.0,>=2.0.6->spacy<3.5.0,>=3.4.0->en-core-web-sm==3.4.0) (3.8.1)\n",
            "Requirement already satisfied: pyparsing!=3.0.5,>=2.0.2 in /usr/local/lib/python3.7/dist-packages (from packaging>=20.0->spacy<3.5.0,>=3.4.0->en-core-web-sm==3.4.0) (3.0.9)\n",
            "Requirement already satisfied: smart-open<6.0.0,>=5.2.1 in /usr/local/lib/python3.7/dist-packages (from pathy>=0.3.5->spacy<3.5.0,>=3.4.0->en-core-web-sm==3.4.0) (5.2.1)\n",
            "Requirement already satisfied: idna<3,>=2.5 in /usr/local/lib/python3.7/dist-packages (from requests<3.0.0,>=2.13.0->spacy<3.5.0,>=3.4.0->en-core-web-sm==3.4.0) (2.10)\n",
            "Requirement already satisfied: chardet<4,>=3.0.2 in /usr/local/lib/python3.7/dist-packages (from requests<3.0.0,>=2.13.0->spacy<3.5.0,>=3.4.0->en-core-web-sm==3.4.0) (3.0.4)\n",
            "Requirement already satisfied: urllib3!=1.25.0,!=1.25.1,<1.26,>=1.21.1 in /usr/local/lib/python3.7/dist-packages (from requests<3.0.0,>=2.13.0->spacy<3.5.0,>=3.4.0->en-core-web-sm==3.4.0) (1.24.3)\n",
            "Requirement already satisfied: certifi>=2017.4.17 in /usr/local/lib/python3.7/dist-packages (from requests<3.0.0,>=2.13.0->spacy<3.5.0,>=3.4.0->en-core-web-sm==3.4.0) (2022.6.15)\n",
            "Requirement already satisfied: blis<0.8.0,>=0.7.8 in /usr/local/lib/python3.7/dist-packages (from thinc<8.2.0,>=8.1.0->spacy<3.5.0,>=3.4.0->en-core-web-sm==3.4.0) (0.7.8)\n",
            "Requirement already satisfied: click<9.0.0,>=7.1.1 in /usr/local/lib/python3.7/dist-packages (from typer<0.5.0,>=0.3.0->spacy<3.5.0,>=3.4.0->en-core-web-sm==3.4.0) (7.1.2)\n",
            "Requirement already satisfied: MarkupSafe>=0.23 in /usr/local/lib/python3.7/dist-packages (from jinja2->spacy<3.5.0,>=3.4.0->en-core-web-sm==3.4.0) (2.0.1)\n",
            "\u001b[38;5;2m✔ Download and installation successful\u001b[0m\n",
            "You can now load the package via spacy.load('en_core_web_sm')\n"
          ]
        }
      ],
      "source": [
        "!pip install -U spacy\n",
        "!python -m spacy download en_core_web_sm"
      ]
    },
    {
      "cell_type": "code",
      "execution_count": null,
      "metadata": {
        "id": "NmSpetwN52XW"
      },
      "outputs": [],
      "source": [
        "import spacy \n",
        "# import string\n",
        "from spacy.lang.en.stop_words import STOP_WORDS\n",
        "from string import punctuation"
      ]
    },
    {
      "cell_type": "code",
      "execution_count": null,
      "metadata": {
        "id": "7Ry0vpv252NM"
      },
      "outputs": [],
      "source": [
        "# from spacy.lang.en.stop_words import STOP_WORDS\n",
        "# from string import punctuation\n",
        "stopwords = list(STOP_WORDS)  # stop words “the”, “a”, “an”, “in”\n",
        "nlp = spacy.load('en_core_web_sm')\n",
        "doc = nlp(text)"
      ]
    },
    {
      "cell_type": "markdown",
      "metadata": {
        "id": "tdu8PQU8BIfe"
      },
      "source": [
        "Printing tokens"
      ]
    },
    {
      "cell_type": "code",
      "execution_count": null,
      "metadata": {
        "colab": {
          "base_uri": "https://localhost:8080/"
        },
        "id": "htBLJWRfBDJ9",
        "outputId": "2d489a21-ba3f-441b-df5e-91e1af886fbe"
      },
      "outputs": [
        {
          "name": "stdout",
          "output_type": "stream",
          "text": [
            "['The', 'human', 'brain', 'is', 'the', 'central', 'organ', 'of', 'the', 'human', 'nervous', 'system', ',', 'and', 'with', 'the', 'spinal', 'cord', 'makes', 'up', 'the', 'central', 'nervous', 'system', '.', 'The', 'brain', 'consists', 'of', 'the', 'cerebrum', ',', 'the', 'brainstem', 'and', 'the', 'cerebellum', '.', 'It', 'controls', 'most', 'of', 'the', 'activities', 'of', 'the', 'body', ',', 'processing', ',', 'integrating', ',', 'and', 'coordinating', 'the', 'information', 'it', 'receives', 'from', 'the', 'sense', 'organs', ',', 'and', 'making', 'decisions', 'as', 'to', 'the', 'instructions', 'sent', 'to', 'the', 'rest', 'of', 'the', 'body', '.', 'The', 'brain', 'is', 'contained', 'in', ',', 'and', 'protected', 'by', ',', 'the', 'skull', 'bones', 'of', 'the', 'head', '.', ' ', 'The', 'cerebrum', ',', 'the', 'largest', 'part', 'of', 'the', 'human', 'brain', ',', 'consists', 'of', 'two', 'cerebral', 'hemispheres', '.', 'Each', 'hemisphere', 'has', 'an', 'inner', 'core', 'composed', 'of', 'white', 'matter', ',', 'and', 'an', 'outer', 'surface', '–', 'the', 'cerebral', 'cortex', '–', 'composed', 'of', 'grey', 'matter', '.', 'The', 'cortex', 'has', 'an', 'outer', 'layer', ',', 'the', 'neocortex', ',', 'and', 'an', 'inner', 'allocortex', '.', 'The', 'neocortex', 'is', 'made', 'up', 'of', 'six', 'neuronal', 'layers', ',', 'while', 'the', 'allocortex', 'has', 'three', 'or', 'four', '.', 'Each', 'hemisphere', 'is', 'conventionally', 'divided', 'into', 'four', 'lobes', '–', 'the', 'frontal', ',', 'temporal', ',', 'parietal', ',', 'and', 'occipital', 'lobes', '.', 'The', 'frontal', 'lobe', 'is', 'associated', 'with', 'executive', 'functions', 'including', 'self', '-', 'control', ',', 'planning', ',', 'reasoning', ',', 'and', 'abstract', 'thought', ',', 'while', 'the', 'occipital', 'lobe', 'is', 'dedicated', 'to', 'vision', '.', 'Within', 'each', 'lobe', ',', 'cortical', 'areas', 'are', 'associated', 'with', 'specific', 'functions', ',', 'such', 'as', 'the', 'sensory', ',', 'motor', 'and', 'association', 'regions', '.', 'Although', 'the', 'left', 'and', 'right', 'hemispheres', 'are', 'broadly', 'similar', 'in', 'shape', 'and', 'function', ',', 'some', 'functions', 'are', 'associated', 'with', 'one', 'side', ',', 'such', 'as', 'language', 'in', 'the', 'left', 'and', 'visual', '-', 'spatial', 'ability', 'in', 'the', 'right', '.', 'The', 'hemispheres', 'are', 'connected', 'by', 'commissural', 'nerve', 'tracts', ',', 'the', 'largest', 'being', 'the', 'corpus', 'callosum', '.', ' ', 'The', 'cerebrum', 'is', 'connected', 'by', 'the', 'brainstem', 'to', 'the', 'spinal', 'cord', '.', 'The', 'brainstem', 'consists', 'of', 'the', 'midbrain', ',', 'the', 'pons', ',', 'and', 'the', 'medulla', 'oblongata', '.', 'The', 'cerebellum', 'is', 'connected', 'to', 'the', 'brainstem', 'by', 'three', 'pairs', 'of', 'nerve', 'tracts', 'called', 'cerebellar', 'peduncles', '.', 'Within', 'the', 'cerebrum', 'is', 'the', 'ventricular', 'system', ',', 'consisting', 'of', 'four', 'interconnected', 'ventricles', 'in', 'which', 'cerebrospinal', 'fluid', 'is', 'produced', 'and', 'circulated', '.', 'Underneath', 'the', 'cerebral', 'cortex', 'are', 'several', 'important', 'structures', ',', 'including', 'the', 'thalamus', ',', 'the', 'epithalamus', ',', 'the', 'pineal', 'gland', ',', 'the', 'hypothalamus', ',', 'the', 'pituitary', 'gland', ',', 'and', 'the', 'subthalamus', ';', 'the', 'limbic', 'structures', ',', 'including', 'the', 'amygdala', 'and', 'the', 'hippocampus', ';', 'the', 'claustrum', ',', 'the', 'various', 'nuclei', 'of', 'the', 'basal', 'ganglia', ';', 'the', 'basal', 'forebrain', 'structures', ',', 'and', 'the', 'three', 'circumventricular', 'organs', '.', 'The', 'cells', 'of', 'the', 'brain', 'include', 'neurons', 'and', 'supportive', 'glial', 'cells', '.', 'There', 'are', 'more', 'than', '86', 'billion', 'neurons', 'in', 'the', 'brain', ',', 'and', 'a', 'more', 'or', 'less', 'equal', 'number', 'of', 'other', 'cells', '.', 'Brain', 'activity', 'is', 'made', 'possible', 'by', 'the', 'interconnections', 'of', 'neurons', 'and', 'their', 'release', 'of', 'neurotransmitters', 'in', 'response', 'to', 'nerve', 'impulses', '.', 'Neurons', 'connect', 'to', 'form', 'neural', 'pathways', ',', 'neural', 'circuits', ',', 'and', 'elaborate', 'network', 'systems', '.', 'The', 'whole', 'circuitry', 'is', 'driven', 'by', 'the', 'process', 'of', 'neurotransmission', '.']\n"
          ]
        }
      ],
      "source": [
        "tokens = [token.text for token in doc]\n",
        "print(tokens)"
      ]
    },
    {
      "cell_type": "code",
      "execution_count": null,
      "metadata": {
        "colab": {
          "base_uri": "https://localhost:8080/",
          "height": 36
        },
        "id": "eWCzuqvkBTCr",
        "outputId": "84e08dfb-7c23-43d1-f79f-4bda1b14bdff"
      },
      "outputs": [
        {
          "data": {
            "application/vnd.google.colaboratory.intrinsic+json": {
              "type": "string"
            },
            "text/plain": [
              "'!\"#$%&\\'()*+,-./:;<=>?@[\\\\]^_`{|}~\\n\\n'"
            ]
          },
          "execution_count": 19,
          "metadata": {},
          "output_type": "execute_result"
        }
      ],
      "source": [
        "punctuation = punctuation + '\\n'\n",
        "punctuation"
      ]
    },
    {
      "cell_type": "code",
      "execution_count": null,
      "metadata": {
        "id": "HocnxlJICHF1"
      },
      "outputs": [],
      "source": [
        "frequency = {}  # dict: keys,vals\n",
        "\n",
        "for word in doc:\n",
        "    if word.text.lower() not in stopwords:\n",
        "        if word.text.lower() not in punctuation:\n",
        "            if word.text not in frequency.keys():\n",
        "                frequency[word.text] = 1\n",
        "            else:\n",
        "                frequency[word.text] +=1\n",
        "\n"
      ]
    },
    {
      "cell_type": "code",
      "execution_count": null,
      "metadata": {
        "colab": {
          "base_uri": "https://localhost:8080/"
        },
        "id": "Ktcapc7WEWx9",
        "outputId": "4c28f3f9-9da9-4677-d276-dddd38339a25"
      },
      "outputs": [
        {
          "data": {
            "text/plain": [
              "{'human': 3,\n",
              " 'brain': 6,\n",
              " 'central': 2,\n",
              " 'organ': 1,\n",
              " 'nervous': 2,\n",
              " 'system': 3,\n",
              " 'spinal': 2,\n",
              " 'cord': 2,\n",
              " 'makes': 1,\n",
              " 'consists': 3,\n",
              " 'cerebrum': 4,\n",
              " 'brainstem': 4,\n",
              " 'cerebellum': 2,\n",
              " 'controls': 1,\n",
              " 'activities': 1,\n",
              " 'body': 2,\n",
              " 'processing': 1,\n",
              " 'integrating': 1,\n",
              " 'coordinating': 1,\n",
              " 'information': 1,\n",
              " 'receives': 1,\n",
              " 'sense': 1,\n",
              " 'organs': 2,\n",
              " 'making': 1,\n",
              " 'decisions': 1,\n",
              " 'instructions': 1,\n",
              " 'sent': 1,\n",
              " 'rest': 1,\n",
              " 'contained': 1,\n",
              " 'protected': 1,\n",
              " 'skull': 1,\n",
              " 'bones': 1,\n",
              " 'head': 1,\n",
              " ' ': 2,\n",
              " 'largest': 2,\n",
              " 'cerebral': 3,\n",
              " 'hemispheres': 3,\n",
              " 'hemisphere': 2,\n",
              " 'inner': 2,\n",
              " 'core': 1,\n",
              " 'composed': 2,\n",
              " 'white': 1,\n",
              " 'matter': 2,\n",
              " 'outer': 2,\n",
              " 'surface': 1,\n",
              " '–': 3,\n",
              " 'cortex': 3,\n",
              " 'grey': 1,\n",
              " 'layer': 1,\n",
              " 'neocortex': 2,\n",
              " 'allocortex': 2,\n",
              " 'neuronal': 1,\n",
              " 'layers': 1,\n",
              " 'conventionally': 1,\n",
              " 'divided': 1,\n",
              " 'lobes': 2,\n",
              " 'frontal': 2,\n",
              " 'temporal': 1,\n",
              " 'parietal': 1,\n",
              " 'occipital': 2,\n",
              " 'lobe': 3,\n",
              " 'associated': 3,\n",
              " 'executive': 1,\n",
              " 'functions': 3,\n",
              " 'including': 3,\n",
              " 'self': 1,\n",
              " 'control': 1,\n",
              " 'planning': 1,\n",
              " 'reasoning': 1,\n",
              " 'abstract': 1,\n",
              " 'thought': 1,\n",
              " 'dedicated': 1,\n",
              " 'vision': 1,\n",
              " 'cortical': 1,\n",
              " 'areas': 1,\n",
              " 'specific': 1,\n",
              " 'sensory': 1,\n",
              " 'motor': 1,\n",
              " 'association': 1,\n",
              " 'regions': 1,\n",
              " 'left': 2,\n",
              " 'right': 2,\n",
              " 'broadly': 1,\n",
              " 'similar': 1,\n",
              " 'shape': 1,\n",
              " 'function': 1,\n",
              " 'language': 1,\n",
              " 'visual': 1,\n",
              " 'spatial': 1,\n",
              " 'ability': 1,\n",
              " 'connected': 3,\n",
              " 'commissural': 1,\n",
              " 'nerve': 3,\n",
              " 'tracts': 2,\n",
              " 'corpus': 1,\n",
              " 'callosum': 1,\n",
              " 'midbrain': 1,\n",
              " 'pons': 1,\n",
              " 'medulla': 1,\n",
              " 'oblongata': 1,\n",
              " 'pairs': 1,\n",
              " 'called': 1,\n",
              " 'cerebellar': 1,\n",
              " 'peduncles': 1,\n",
              " 'ventricular': 1,\n",
              " 'consisting': 1,\n",
              " 'interconnected': 1,\n",
              " 'ventricles': 1,\n",
              " 'cerebrospinal': 1,\n",
              " 'fluid': 1,\n",
              " 'produced': 1,\n",
              " 'circulated': 1,\n",
              " 'Underneath': 1,\n",
              " 'important': 1,\n",
              " 'structures': 3,\n",
              " 'thalamus': 1,\n",
              " 'epithalamus': 1,\n",
              " 'pineal': 1,\n",
              " 'gland': 2,\n",
              " 'hypothalamus': 1,\n",
              " 'pituitary': 1,\n",
              " 'subthalamus': 1,\n",
              " 'limbic': 1,\n",
              " 'amygdala': 1,\n",
              " 'hippocampus': 1,\n",
              " 'claustrum': 1,\n",
              " 'nuclei': 1,\n",
              " 'basal': 2,\n",
              " 'ganglia': 1,\n",
              " 'forebrain': 1,\n",
              " 'circumventricular': 1,\n",
              " 'cells': 3,\n",
              " 'include': 1,\n",
              " 'neurons': 3,\n",
              " 'supportive': 1,\n",
              " 'glial': 1,\n",
              " '86': 1,\n",
              " 'billion': 1,\n",
              " 'equal': 1,\n",
              " 'number': 1,\n",
              " 'Brain': 1,\n",
              " 'activity': 1,\n",
              " 'possible': 1,\n",
              " 'interconnections': 1,\n",
              " 'release': 1,\n",
              " 'neurotransmitters': 1,\n",
              " 'response': 1,\n",
              " 'impulses': 1,\n",
              " 'Neurons': 1,\n",
              " 'connect': 1,\n",
              " 'form': 1,\n",
              " 'neural': 2,\n",
              " 'pathways': 1,\n",
              " 'circuits': 1,\n",
              " 'elaborate': 1,\n",
              " 'network': 1,\n",
              " 'systems': 1,\n",
              " 'circuitry': 1,\n",
              " 'driven': 1,\n",
              " 'process': 1,\n",
              " 'neurotransmission': 1}"
            ]
          },
          "execution_count": 22,
          "metadata": {},
          "output_type": "execute_result"
        }
      ],
      "source": [
        "frequency"
      ]
    },
    {
      "cell_type": "code",
      "execution_count": null,
      "metadata": {
        "colab": {
          "base_uri": "https://localhost:8080/"
        },
        "id": "Hd3LVWIoF7Kw",
        "outputId": "476f9da3-fed0-45df-8629-0067767937ff"
      },
      "outputs": [
        {
          "data": {
            "text/plain": [
              "6"
            ]
          },
          "execution_count": 24,
          "metadata": {},
          "output_type": "execute_result"
        }
      ],
      "source": [
        "# max frequency count\n",
        "max_frequency = max(frequency.values())\n",
        "max_frequency"
      ]
    },
    {
      "cell_type": "code",
      "execution_count": null,
      "metadata": {
        "colab": {
          "base_uri": "https://localhost:8080/"
        },
        "id": "ZVX-vkHMGg4m",
        "outputId": "cfb5947e-b74f-411b-d6b1-53f35f8656b5"
      },
      "outputs": [
        {
          "data": {
            "text/plain": [
              "{'human': 0.08333333333333333,\n",
              " 'brain': 0.16666666666666666,\n",
              " 'central': 0.05555555555555555,\n",
              " 'organ': 0.027777777777777776,\n",
              " 'nervous': 0.05555555555555555,\n",
              " 'system': 0.08333333333333333,\n",
              " 'spinal': 0.05555555555555555,\n",
              " 'cord': 0.05555555555555555,\n",
              " 'makes': 0.027777777777777776,\n",
              " 'consists': 0.08333333333333333,\n",
              " 'cerebrum': 0.1111111111111111,\n",
              " 'brainstem': 0.1111111111111111,\n",
              " 'cerebellum': 0.05555555555555555,\n",
              " 'controls': 0.027777777777777776,\n",
              " 'activities': 0.027777777777777776,\n",
              " 'body': 0.05555555555555555,\n",
              " 'processing': 0.027777777777777776,\n",
              " 'integrating': 0.027777777777777776,\n",
              " 'coordinating': 0.027777777777777776,\n",
              " 'information': 0.027777777777777776,\n",
              " 'receives': 0.027777777777777776,\n",
              " 'sense': 0.027777777777777776,\n",
              " 'organs': 0.05555555555555555,\n",
              " 'making': 0.027777777777777776,\n",
              " 'decisions': 0.027777777777777776,\n",
              " 'instructions': 0.027777777777777776,\n",
              " 'sent': 0.027777777777777776,\n",
              " 'rest': 0.027777777777777776,\n",
              " 'contained': 0.027777777777777776,\n",
              " 'protected': 0.027777777777777776,\n",
              " 'skull': 0.027777777777777776,\n",
              " 'bones': 0.027777777777777776,\n",
              " 'head': 0.027777777777777776,\n",
              " ' ': 0.05555555555555555,\n",
              " 'largest': 0.05555555555555555,\n",
              " 'cerebral': 0.08333333333333333,\n",
              " 'hemispheres': 0.08333333333333333,\n",
              " 'hemisphere': 0.05555555555555555,\n",
              " 'inner': 0.05555555555555555,\n",
              " 'core': 0.027777777777777776,\n",
              " 'composed': 0.05555555555555555,\n",
              " 'white': 0.027777777777777776,\n",
              " 'matter': 0.05555555555555555,\n",
              " 'outer': 0.05555555555555555,\n",
              " 'surface': 0.027777777777777776,\n",
              " '–': 0.08333333333333333,\n",
              " 'cortex': 0.08333333333333333,\n",
              " 'grey': 0.027777777777777776,\n",
              " 'layer': 0.027777777777777776,\n",
              " 'neocortex': 0.05555555555555555,\n",
              " 'allocortex': 0.05555555555555555,\n",
              " 'neuronal': 0.027777777777777776,\n",
              " 'layers': 0.027777777777777776,\n",
              " 'conventionally': 0.027777777777777776,\n",
              " 'divided': 0.027777777777777776,\n",
              " 'lobes': 0.05555555555555555,\n",
              " 'frontal': 0.05555555555555555,\n",
              " 'temporal': 0.027777777777777776,\n",
              " 'parietal': 0.027777777777777776,\n",
              " 'occipital': 0.05555555555555555,\n",
              " 'lobe': 0.08333333333333333,\n",
              " 'associated': 0.08333333333333333,\n",
              " 'executive': 0.027777777777777776,\n",
              " 'functions': 0.08333333333333333,\n",
              " 'including': 0.08333333333333333,\n",
              " 'self': 0.027777777777777776,\n",
              " 'control': 0.027777777777777776,\n",
              " 'planning': 0.027777777777777776,\n",
              " 'reasoning': 0.027777777777777776,\n",
              " 'abstract': 0.027777777777777776,\n",
              " 'thought': 0.027777777777777776,\n",
              " 'dedicated': 0.027777777777777776,\n",
              " 'vision': 0.027777777777777776,\n",
              " 'cortical': 0.027777777777777776,\n",
              " 'areas': 0.027777777777777776,\n",
              " 'specific': 0.027777777777777776,\n",
              " 'sensory': 0.027777777777777776,\n",
              " 'motor': 0.027777777777777776,\n",
              " 'association': 0.027777777777777776,\n",
              " 'regions': 0.027777777777777776,\n",
              " 'left': 0.05555555555555555,\n",
              " 'right': 0.05555555555555555,\n",
              " 'broadly': 0.027777777777777776,\n",
              " 'similar': 0.027777777777777776,\n",
              " 'shape': 0.027777777777777776,\n",
              " 'function': 0.027777777777777776,\n",
              " 'language': 0.027777777777777776,\n",
              " 'visual': 0.027777777777777776,\n",
              " 'spatial': 0.027777777777777776,\n",
              " 'ability': 0.027777777777777776,\n",
              " 'connected': 0.08333333333333333,\n",
              " 'commissural': 0.027777777777777776,\n",
              " 'nerve': 0.08333333333333333,\n",
              " 'tracts': 0.05555555555555555,\n",
              " 'corpus': 0.027777777777777776,\n",
              " 'callosum': 0.027777777777777776,\n",
              " 'midbrain': 0.027777777777777776,\n",
              " 'pons': 0.027777777777777776,\n",
              " 'medulla': 0.027777777777777776,\n",
              " 'oblongata': 0.027777777777777776,\n",
              " 'pairs': 0.027777777777777776,\n",
              " 'called': 0.027777777777777776,\n",
              " 'cerebellar': 0.027777777777777776,\n",
              " 'peduncles': 0.027777777777777776,\n",
              " 'ventricular': 0.027777777777777776,\n",
              " 'consisting': 0.027777777777777776,\n",
              " 'interconnected': 0.027777777777777776,\n",
              " 'ventricles': 0.027777777777777776,\n",
              " 'cerebrospinal': 0.027777777777777776,\n",
              " 'fluid': 0.027777777777777776,\n",
              " 'produced': 0.027777777777777776,\n",
              " 'circulated': 0.027777777777777776,\n",
              " 'Underneath': 0.027777777777777776,\n",
              " 'important': 0.027777777777777776,\n",
              " 'structures': 0.08333333333333333,\n",
              " 'thalamus': 0.027777777777777776,\n",
              " 'epithalamus': 0.027777777777777776,\n",
              " 'pineal': 0.027777777777777776,\n",
              " 'gland': 0.05555555555555555,\n",
              " 'hypothalamus': 0.027777777777777776,\n",
              " 'pituitary': 0.027777777777777776,\n",
              " 'subthalamus': 0.027777777777777776,\n",
              " 'limbic': 0.027777777777777776,\n",
              " 'amygdala': 0.027777777777777776,\n",
              " 'hippocampus': 0.027777777777777776,\n",
              " 'claustrum': 0.027777777777777776,\n",
              " 'nuclei': 0.027777777777777776,\n",
              " 'basal': 0.05555555555555555,\n",
              " 'ganglia': 0.027777777777777776,\n",
              " 'forebrain': 0.027777777777777776,\n",
              " 'circumventricular': 0.027777777777777776,\n",
              " 'cells': 0.08333333333333333,\n",
              " 'include': 0.027777777777777776,\n",
              " 'neurons': 0.08333333333333333,\n",
              " 'supportive': 0.027777777777777776,\n",
              " 'glial': 0.027777777777777776,\n",
              " '86': 0.027777777777777776,\n",
              " 'billion': 0.027777777777777776,\n",
              " 'equal': 0.027777777777777776,\n",
              " 'number': 0.027777777777777776,\n",
              " 'Brain': 0.027777777777777776,\n",
              " 'activity': 0.027777777777777776,\n",
              " 'possible': 0.027777777777777776,\n",
              " 'interconnections': 0.027777777777777776,\n",
              " 'release': 0.027777777777777776,\n",
              " 'neurotransmitters': 0.027777777777777776,\n",
              " 'response': 0.027777777777777776,\n",
              " 'impulses': 0.027777777777777776,\n",
              " 'Neurons': 0.027777777777777776,\n",
              " 'connect': 0.027777777777777776,\n",
              " 'form': 0.027777777777777776,\n",
              " 'neural': 0.05555555555555555,\n",
              " 'pathways': 0.027777777777777776,\n",
              " 'circuits': 0.027777777777777776,\n",
              " 'elaborate': 0.027777777777777776,\n",
              " 'network': 0.027777777777777776,\n",
              " 'systems': 0.027777777777777776,\n",
              " 'circuitry': 0.027777777777777776,\n",
              " 'driven': 0.027777777777777776,\n",
              " 'process': 0.027777777777777776,\n",
              " 'neurotransmission': 0.027777777777777776}"
            ]
          },
          "execution_count": 26,
          "metadata": {},
          "output_type": "execute_result"
        }
      ],
      "source": [
        "for word in frequency.keys():\n",
        "  frequency[word] = frequency[word]/max_frequency\n",
        "\n",
        "frequency"
      ]
    },
    {
      "cell_type": "code",
      "execution_count": null,
      "metadata": {
        "colab": {
          "base_uri": "https://localhost:8080/"
        },
        "id": "X3AtRtI4G4gT",
        "outputId": "8a970021-39aa-4f5e-868a-c0e15751b5a4"
      },
      "outputs": [
        {
          "data": {
            "text/plain": [
              "[The human brain is the central organ of the human nervous system, and with the spinal cord makes up the central nervous system.,\n",
              " The brain consists of the cerebrum, the brainstem and the cerebellum.,\n",
              " It controls most of the activities of the body, processing, integrating, and coordinating the information it receives from the sense organs, and making decisions as to the instructions sent to the rest of the body.,\n",
              " The brain is contained in, and protected by, the skull bones of the head.  ,\n",
              " The cerebrum, the largest part of the human brain, consists of two cerebral hemispheres.,\n",
              " Each hemisphere has an inner core composed of white matter, and an outer surface – the cerebral cortex – composed of grey matter.,\n",
              " The cortex has an outer layer, the neocortex, and an inner allocortex.,\n",
              " The neocortex is made up of six neuronal layers, while the allocortex has three or four.,\n",
              " Each hemisphere is conventionally divided into four lobes – the frontal, temporal, parietal, and occipital lobes.,\n",
              " The frontal lobe is associated with executive functions including self-control, planning, reasoning, and abstract thought, while the occipital lobe is dedicated to vision.,\n",
              " Within each lobe, cortical areas are associated with specific functions, such as the sensory, motor and association regions.,\n",
              " Although the left and right hemispheres are broadly similar in shape and function, some functions are associated with one side, such as language in the left and visual-spatial ability in the right.,\n",
              " The hemispheres are connected by commissural nerve tracts, the largest being the corpus callosum.  ,\n",
              " The cerebrum is connected by the brainstem to the spinal cord.,\n",
              " The brainstem consists of the midbrain, the pons, and the medulla oblongata.,\n",
              " The cerebellum is connected to the brainstem by three pairs of nerve tracts called cerebellar peduncles.,\n",
              " Within the cerebrum is the ventricular system, consisting of four interconnected ventricles in which cerebrospinal fluid is produced and circulated.,\n",
              " Underneath the cerebral cortex are several important structures, including the thalamus, the epithalamus, the pineal gland, the hypothalamus, the pituitary gland, and the subthalamus; the limbic structures, including the amygdala and the hippocampus; the claustrum, the various nuclei of the basal ganglia; the basal forebrain structures, and the three circumventricular organs.,\n",
              " The cells of the brain include neurons and supportive glial cells.,\n",
              " There are more than 86 billion neurons in the brain, and a more or less equal number of other cells.,\n",
              " Brain activity is made possible by the interconnections of neurons and their release of neurotransmitters in response to nerve impulses.,\n",
              " Neurons connect to form neural pathways, neural circuits, and elaborate network systems.,\n",
              " The whole circuitry is driven by the process of neurotransmission.]"
            ]
          },
          "execution_count": 27,
          "metadata": {},
          "output_type": "execute_result"
        }
      ],
      "source": [
        "#Sentences in the document.\n",
        "sentences = [sent for sent in doc.sents]\n",
        "sentences"
      ]
    },
    {
      "cell_type": "code",
      "execution_count": null,
      "metadata": {
        "id": "kU6v6_g1ICun"
      },
      "outputs": [],
      "source": []
    }
  ],
  "metadata": {
    "colab": {
      "provenance": []
    },
    "kernelspec": {
      "display_name": "Python 3.10.6 64-bit",
      "language": "python",
      "name": "python3"
    },
    "language_info": {
      "name": "python",
      "version": "3.10.6"
    },
    "vscode": {
      "interpreter": {
        "hash": "3075602fe07dfbfad68e36544cfcd65990cacb611b1ced0126e3839888a1e43b"
      }
    }
  },
  "nbformat": 4,
  "nbformat_minor": 0
}
